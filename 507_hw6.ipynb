{
 "cells": [
  {
   "cell_type": "markdown",
   "id": "6d88c96c",
   "metadata": {},
   "source": [
    "# Problem Set 6: Intro to GIT\n",
    "*Work produced by Stephen Toner, Fall 2021* \\\n",
    "email: srtoner@umich.edu"
   ]
  },
  {
   "cell_type": "markdown",
   "id": "96cbcbee",
   "metadata": {},
   "source": [
    "## Question 0"
   ]
  },
  {
   "cell_type": "markdown",
   "id": "baecf7dd",
   "metadata": {},
   "source": [
    "1. Assuming you already have a github account (if not, follow instructions\n",
    "[here](https://github.com/) ), proceed to the next step.\n",
    "\n",
    "2. To create a repository, you can either navigate through the instructions\n",
    "at github or execute the following steps:\n",
    "* Navigate to where you want your repository to be in your file system\n",
    "* `git init`\n",
    "* `git remote add origin https://github.com/[username]/[repo_name].git`\n",
    "\n",
    "I've already taken the steps to create a repo called \n",
    "[stats507](https://github.com/srtoner/stats507). Feel free to take a look."
   ]
  },
  {
   "cell_type": "markdown",
   "id": "11b79a14",
   "metadata": {},
   "source": [
    "## Question 1 - Using Git\n",
    "I've added my solutions for Problem Sets 2 and 4 to the repository for\n",
    "ease of access. The code is in `507_hw2.py` and `507_hw4.py`, respectively."
   ]
  },
  {
   "cell_type": "markdown",
   "id": "ed82d720",
   "metadata": {},
   "source": [
    "1. The code in question is in 507_hw2.py; we can copy the module imports\n",
    "(lines 11-17) and the code itself (lines 570-685) using `sed`:\n",
    "* `sed -n '11,17p;18q' 507_hw2.py > ps2q3.py`\n",
    "* `sed -n '570,685p;686q' 507_hw2.py > cat >> ps2q3.py`\n",
    "\n",
    "We can then add the new file to the repo by executing\n",
    "* `git add ps2q3.py`\n",
    "2. Suppose we want to add a README file. We would create it using vim\n",
    "(or another text editor) as follows:\n",
    "* `vim README.md`\n",
    "* press `:i` and type what you want to insert. When done, hit escape\n",
    "* press `:wq` to write and quit\n",
    "In this case, we want to add a description of what the extracted code does \n",
    "and include a link. We can do this in Markdown with the following syntax\n",
    "* `[text to display](ps2q3.py)`"
   ]
  },
  {
   "cell_type": "markdown",
   "id": "f65777ca",
   "metadata": {},
   "source": [
    "3. Once finished, we want to push the changes we've made to the remote repo:\n",
    "* `git pull`\n",
    "* `git commit -m 'adding ps2q3 code'`\n",
    "* `git push`\n",
    "\n",
    "To view the specific commit, click \n",
    "[here](https://github.com/srtoner/stats507/commit/7062f48b8911e9c8fccb53125167f1a1f75020fe)"
   ]
  },
  {
   "cell_type": "markdown",
   "id": "22c02a9b",
   "metadata": {},
   "source": [
    "4. Create a branch using `git branch ps4` and check it out using \n",
    "`git checkout ps4`. From here we can modify our code in ps2q3.py to add \n",
    "the gender field to the dataset. Using vim, we can make these changes by\n",
    "inserting:\n",
    "* `\"RIAGENDR\",` on line 18\n",
    "*  `\"RIAGENDR\" : \"gender\",` on line 31\n",
    "Write the changes to file and close. We can then commit the changes and \n",
    "create an upstream branch as follows:\n",
    "* `git commit -a ps2q3.py -m \"adding gender\"`\n",
    "* `git push -u origin HEAD`\n",
    "\n",
    "This creates an upstream branch with the same name as our current branch.\n",
    "\n",
    "To merge with the existing main branch, we would proceed with:\n",
    "* `git checkout main`\n",
    "* `git pull`\n",
    "* `git merge ps4`\n",
    "* `git push origin main`\n",
    "\n",
    "To view this specific commit, click \n",
    "[here](https://github.com/srtoner/stats507/commit/96817b7d12449f3eb25d65199ca1a0675d0a821e)"
   ]
  },
  {
   "cell_type": "markdown",
   "id": "73d74edb",
   "metadata": {},
   "source": [
    "# Question 2 - GitHub Collaboration\n",
    "1. Create a new directory with `mkdir pandas_notes`\n",
    "2. Extract PS4 Question 0 code with the `sed` command:\n",
    "* `sed -n '3,16p;17q' hw4/507_hw4.py > pandas_notes/pd_topic_srtoner.py`\n",
    "* `sed -n '21,171l;172q' hw4/507_hw4.py > cat >> pandas_notes/pd_topic_srtoner.py`\n",
    "* Add a title \"slide\" using vim\n",
    "The link to the file is [here](pandas_notes/pd_topic_srtoner.py)\n",
    "3. I am currently awaiting a link to the repo of one person above me in the \n",
    "fanout tree."
   ]
  }
 ],
 "metadata": {
  "jupytext": {
   "cell_metadata_filter": "-all",
   "encoding": "# -*- coding: utf-8 -*-",
   "executable": "/usr/bin/env python3",
   "main_language": "python",
   "notebook_metadata_filter": "-all"
  },
  "kernelspec": {
   "display_name": "Python 3 (ipykernel)",
   "language": "python",
   "name": "python3"
  },
  "language_info": {
   "codemirror_mode": {
    "name": "ipython",
    "version": 3
   },
   "file_extension": ".py",
   "mimetype": "text/x-python",
   "name": "python",
   "nbconvert_exporter": "python",
   "pygments_lexer": "ipython3",
   "version": "3.9.7"
  }
 },
 "nbformat": 4,
 "nbformat_minor": 5
}
