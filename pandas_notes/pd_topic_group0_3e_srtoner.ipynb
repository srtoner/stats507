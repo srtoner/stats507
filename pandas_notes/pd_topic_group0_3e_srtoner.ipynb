{
 "cells": [
  {
   "cell_type": "markdown",
   "id": "e270863e",
   "metadata": {},
   "source": [
    "## Topics in Pandas\n",
    "**Stats 507, Fall 2021** \n",
    "  "
   ]
  },
  {
   "cell_type": "markdown",
   "id": "f9079c44",
   "metadata": {},
   "source": [
    "## Contents\n",
    "Add a bullet for each topic and link to the level 2 title header using \n",
    "the exact title with spaces replaced by a dash. \n",
    "\n",
    "+ [Pandas Query](#Pandas-Query) \n",
    "+ [Time Series](#Time-Series) \n",
    "+ [Window Functions](#Window-Functions) "
   ]
  },
  {
   "cell_type": "markdown",
   "id": "44bc8641",
   "metadata": {},
   "source": [
    "## Pandas Query ##\n",
    "\n",
    "### pd. query ##\n",
    "\n",
    "###### Name: Anandkumar Patel\n",
    "###### Email: patelana@umich.edu\n",
    "###### Unique ID: patelana"
   ]
  },
  {
   "cell_type": "markdown",
   "id": "f7c41a88",
   "metadata": {},
   "source": [
    "### Arguments and Output\n",
    "\n",
    "**Arguments** \n",
    "\n",
    "* expression (expr) \n",
    "* inplace (default = False) \n",
    "    * Do you want to operate directly on the dataframe or create new one\n",
    "* kwargs (keyword arguments)\n",
    "\n",
    "**Returns** \n",
    "* Dataframe from provided query"
   ]
  },
  {
   "cell_type": "markdown",
   "id": "3c836165",
   "metadata": {},
   "source": [
    "## Why\n",
    "\n",
    "* Similar to an SQL query \n",
    "* Can help you filter data by querying\n",
    "* Returns a subset of the DataFrame\n",
    "* loc and iloc can be used to query either rows or columns"
   ]
  },
  {
   "cell_type": "markdown",
   "id": "d024ea08",
   "metadata": {},
   "source": [
    "## Query Syntax\n",
    "\n",
    "* yourdataframe.query(expression, inplace = True/False"
   ]
  },
  {
   "cell_type": "markdown",
   "id": "0f1703e6",
   "metadata": {},
   "source": [
    "## Code Example"
   ]
  },
  {
   "cell_type": "markdown",
   "id": "c404b79b",
   "metadata": {
    "lines_to_next_cell": 2
   },
   "source": [
    "In[2]:"
   ]
  },
  {
   "cell_type": "code",
   "execution_count": null,
   "id": "215e4855",
   "metadata": {},
   "outputs": [],
   "source": [
    "import pandas as pd\n",
    "df = pd.DataFrame({'A': range(1, 6),\n",
    "                   'B': range(10, 0, -2),\n",
    "                   'C C': range(10, 5, -1)})\n",
    "print(df)"
   ]
  },
  {
   "cell_type": "code",
   "execution_count": null,
   "id": "4e5c416f",
   "metadata": {},
   "outputs": [],
   "source": [
    "print('Below is the results of the query')"
   ]
  },
  {
   "cell_type": "code",
   "execution_count": null,
   "id": "ab59b967",
   "metadata": {},
   "outputs": [],
   "source": [
    "print(df.query('A > B'))"
   ]
  },
  {
   "cell_type": "code",
   "execution_count": null,
   "id": "6b4dc2df",
   "metadata": {},
   "outputs": [],
   "source": []
  },
  {
   "cell_type": "code",
   "execution_count": null,
   "id": "744af31d",
   "metadata": {},
   "outputs": [],
   "source": []
  },
  {
   "cell_type": "markdown",
   "id": "4093857b",
   "metadata": {},
   "source": [
    "## Time Series\n",
    "**Name: Lu Qin**\n",
    "UM email: qinlu@umich.edu"
   ]
  },
  {
   "cell_type": "markdown",
   "id": "05b4a1b5",
   "metadata": {},
   "source": [
    "### Overview\n",
    " - Data times\n",
    " - Time Frequency\n",
    " - Time zone"
   ]
  },
  {
   "cell_type": "markdown",
   "id": "cc47f4ac",
   "metadata": {},
   "source": [
    "### Import"
   ]
  },
  {
   "cell_type": "code",
   "execution_count": null,
   "id": "0b64bba2",
   "metadata": {},
   "outputs": [],
   "source": [
    "import datetime\n",
    "import pandas as pd\n",
    "import numpy as np"
   ]
  },
  {
   "cell_type": "markdown",
   "id": "35881b13",
   "metadata": {},
   "source": [
    "### Datetime\n",
    " - Parsing time series information from various sources and formats"
   ]
  },
  {
   "cell_type": "code",
   "execution_count": null,
   "id": "8d72f7dd",
   "metadata": {},
   "outputs": [],
   "source": [
    "dti = pd.to_datetime(\n",
    "    [\"20/10/2021\", \n",
    "     np.datetime64(\"2021-10-20\"), \n",
    "     datetime.datetime(2021, 10, 20)]\n",
    ")\n",
    "\n",
    "dti"
   ]
  },
  {
   "cell_type": "markdown",
   "id": "fdad6571",
   "metadata": {},
   "source": [
    "### Time frequency\n",
    "- Generate sequences of fixed-frequency dates and time spans\n",
    "- Resampling or converting a time series to a particular frequency"
   ]
  },
  {
   "cell_type": "markdown",
   "id": "8ac9d87a",
   "metadata": {},
   "source": [
    "#### Generate"
   ]
  },
  {
   "cell_type": "code",
   "execution_count": null,
   "id": "6d8ca0ab",
   "metadata": {},
   "outputs": [],
   "source": [
    "dti = pd.date_range(\"2021-10-20\", periods=2, freq=\"H\")\n",
    "\n",
    "dti"
   ]
  },
  {
   "cell_type": "markdown",
   "id": "caeeb8ff",
   "metadata": {},
   "source": [
    "#### convert"
   ]
  },
  {
   "cell_type": "code",
   "execution_count": null,
   "id": "959b284e",
   "metadata": {},
   "outputs": [],
   "source": [
    "idx = pd.date_range(\"2021-10-20\", periods=3, freq=\"H\")\n",
    "ts = pd.Series(range(len(idx)), index=idx)\n",
    "\n",
    "ts"
   ]
  },
  {
   "cell_type": "markdown",
   "id": "83c1f4e3",
   "metadata": {},
   "source": [
    "#### resample"
   ]
  },
  {
   "cell_type": "code",
   "execution_count": null,
   "id": "8c36da17",
   "metadata": {},
   "outputs": [],
   "source": [
    "ts.resample(\"2H\").mean()"
   ]
  },
  {
   "cell_type": "markdown",
   "id": "8cddf2bc",
   "metadata": {},
   "source": [
    "### Timezone\n",
    " - Manipulating and converting date times with timezone information\n",
    " - `tz_localize()`\n",
    " - `tz_convert()`"
   ]
  },
  {
   "cell_type": "code",
   "execution_count": null,
   "id": "f792ca3d",
   "metadata": {},
   "outputs": [],
   "source": [
    "dti = dti.tz_localize(\"UTC\")\n",
    "dti\n",
    "\n",
    "dti.tz_convert(\"US/Pacific\")"
   ]
  },
  {
   "cell_type": "markdown",
   "id": "befa41b1",
   "metadata": {},
   "source": [
    "## Window Functions ##\n",
    "**Name: Stephen Toner** \\\n",
    "UM email: srtoner@umich.edu"
   ]
  },
  {
   "cell_type": "code",
   "execution_count": null,
   "id": "4348d29f",
   "metadata": {},
   "outputs": [],
   "source": [
    "import pandas as pd\n",
    "import numpy as np\n",
    "import matplotlib.pyplot as plt\n",
    "import pandas_datareader as web"
   ]
  },
  {
   "cell_type": "markdown",
   "id": "40dc0a35",
   "metadata": {},
   "source": [
    "Of the many funcitons in Pandas, one which is particularly useful for time\n",
    "series analysis is the window function. It lets us apply some aggregation \n",
    "function over a specified lookback period on a rolling basis throughout the\n",
    "time series. This is particularly useful for financial analsyis of equity\n",
    "returns, so we will compute some financial metrics for Amazon stock using\n",
    "this techinique."
   ]
  },
  {
   "cell_type": "markdown",
   "id": "90544d11",
   "metadata": {},
   "source": [
    "Our first step is to import our data for Amazon (\"AMZN\") \n",
    "over a healthy time horizon:"
   ]
  },
  {
   "cell_type": "code",
   "execution_count": null,
   "id": "fbc040b4",
   "metadata": {
    "lines_to_next_cell": 2
   },
   "outputs": [],
   "source": [
    "amzn_data = web.DataReader(\"AMZN\", \n",
    "                           data_source = 'yahoo', \n",
    "                           start = \"2016-10-01\", \n",
    "                           end = \"2021-10-01\")\n",
    "\n",
    "amzn_data.head()"
   ]
  },
  {
   "cell_type": "markdown",
   "id": "7814aebe",
   "metadata": {},
   "source": [
    "While the column labels are largely self-explanatory, two important notes\n",
    "should be made:\n",
    "* The adjusted close represents the closing price after all is said and done\n",
    "after the trading session ends; this may represent changes due to accounts \n",
    "being settled / netted against each other, or from adjustments to financial\n",
    "reporting statements.\n",
    "* One reason for our choice in AMZN stock rather than others is that AMZN\n",
    "has not had a stock split in the last 20 years; for this reason we do not\n",
    "need to concern ourselves with adjusting for the issuance of new shares like\n",
    "we would for TSLA, AAPL, or other companies with large\n",
    "market capitalization."
   ]
  },
  {
   "cell_type": "markdown",
   "id": "0b39f5c0",
   "metadata": {},
   "source": [
    "Getting back to Pandas, we have three main functions that allow us to\n",
    "perform Window operations:\n",
    "* `df.shift()`: Not technically a window operation, but helpful for\n",
    "computing calculations with offsets in time series\n",
    "* `rolling`: For a given fixed lookback period, tells us the \n",
    "aggregation metric (mean, avg, std dev)\n",
    "* `expanding`: Similar to `rolling`, but the lookback period is not fixed. \n",
    "Helpful when we want to have a variable lookback period such as \"month to \n",
    "date\" returns"
   ]
  },
  {
   "cell_type": "markdown",
   "id": "2d87a2cc",
   "metadata": {},
   "source": [
    "Two metrics that are often of interest to investors are the returns of an\n",
    "asset and the volume of shares traded. Returns are either calculated on\n",
    "a simple basis:\n",
    "$$ R_s = P_1/P_0 -1$$\n",
    "or a log basis:\n",
    "$$ R_l = \\log (P_1 / P_2) $$\n",
    "Simple returns are more useful when aggregating returns across multiple \n",
    "assets, while Log returns are more flexible when looking at returns across \n",
    "time. As we are just looking at AMZN, we will calculate the log returns\n",
    "using the `shift` function:"
   ]
  },
  {
   "cell_type": "code",
   "execution_count": null,
   "id": "2daaf3fa",
   "metadata": {},
   "outputs": [],
   "source": [
    "amzn_data[\"l_returns\"] = np.log(amzn_data[\"Adj Close\"]/\n",
    "                                amzn_data[\"Adj Close\"].shift(1))\n",
    "\n",
    "\n",
    "plt.title(\"Log Returns of AMZN\")\n",
    "plt.plot(amzn_data['l_returns'])\n"
   ]
  },
  {
   "cell_type": "markdown",
   "id": "09d03e9b",
   "metadata": {},
   "source": [
    "For the latter, we see that the\n",
    "volume of AMZN stock traded is quite noisy:"
   ]
  },
  {
   "cell_type": "code",
   "execution_count": null,
   "id": "cd0e46a0",
   "metadata": {},
   "outputs": [],
   "source": [
    "plt.title(\"Daily Trading Volume of AMZN\")   \n",
    "plt.plot(amzn_data['Volume'])"
   ]
  },
  {
   "cell_type": "markdown",
   "id": "4c04c7a7",
   "metadata": {},
   "source": [
    "If we want to get a better picture of the trends, we can always take a\n",
    "moving average of the last 5 days (last full set of trading days):"
   ]
  },
  {
   "cell_type": "code",
   "execution_count": null,
   "id": "756e361a",
   "metadata": {},
   "outputs": [],
   "source": [
    "amzn_data[\"vol_5dma\"] = amzn_data[\"Volume\"].rolling(window = 5).mean()\n",
    "plt.title(\"Daily Trading Volume of AMZN\")   \n",
    "plt.plot(amzn_data['vol_5dma'])"
   ]
  },
  {
   "cell_type": "markdown",
   "id": "e33e3085",
   "metadata": {},
   "source": [
    "When we apply this to a price metric, we can identify some technical patterns\n",
    "such as when the 15 or 50 day moving average crosses the 100 or 200 day\n",
    "moving average (known as the golden cross, by those who believe in it)."
   ]
  },
  {
   "cell_type": "code",
   "execution_count": null,
   "id": "c8ff2c8e",
   "metadata": {
    "lines_to_end_of_cell_marker": 0,
    "lines_to_next_cell": 1
   },
   "outputs": [],
   "source": [
    "amzn_data[\"ma_15\"] = amzn_data[\"Adj Close\"].rolling(window = 15).mean()\n",
    "amzn_data[\"ma_100\"] = amzn_data[\"Adj Close\"].rolling(window = 100).mean()\n",
    "\n",
    "fig1 = plt.figure()\n",
    "plt.plot(amzn_data[\"ma_15\"])\n",
    "plt.plot(amzn_data[\"ma_100\"])\n",
    "plt.title(\"15 Day MA vs. 100 Day MA\")\n",
    "\n",
    "# We can then use the `shift()` method to identify which dates have \n",
    "# golden crosses\n",
    "\n",
    "gc_days = (amzn_data.eval(\"ma_15 > ma_100\") & \n",
    "               amzn_data.shift(1).eval(\"ma_15 <= ma_100\"))\n",
    "\n",
    "gc_prices = amzn_data[\"ma_15\"][gc_days]\n",
    "\n",
    "\n",
    "fig2 = plt.figure()\n",
    "plt.plot(amzn_data[\"Adj Close\"], color = \"black\")\n",
    "plt.scatter( x= gc_prices.index, \n",
    "                y = gc_prices[:],\n",
    "                marker = \"+\", \n",
    "                color = \"gold\" \n",
    "                )\n",
    "\n",
    "plt.title(\"Golden Crosses & Adj Close\")"
   ]
  },
  {
   "cell_type": "markdown",
   "id": "9acf3c25",
   "metadata": {},
   "source": [
    "The last feature that Pandas offers is a the `expanding` window function, \n",
    "which calculates a metric over a time frame that grows with each additional \n",
    "period. This is particularly useful for backtesting financial metrics\n",
    "as indicators of changes in equity prices: because one must be careful not\n",
    "to apply information from the future when performing backtesting, the \n",
    "`expanding` functionality helps ensure we only use information up until the \n",
    "given point in time. Below, we use the expanding function to plot cumulative\n",
    "return of AMZN over the time horizon."
   ]
  },
  {
   "cell_type": "code",
   "execution_count": null,
   "id": "acba4be5",
   "metadata": {
    "lines_to_next_cell": 0
   },
   "outputs": [],
   "source": [
    "def calc_total_return(x):\n",
    "    \"\"\"    \n",
    "    Parameters\n",
    "    ----------\n",
    "    x : TYPE\n",
    "        DESCRIPTION.\n",
    "\n",
    "    Returns\n",
    "    -------\n",
    "    TYPE\n",
    "        DESCRIPTION.\n",
    "\n",
    "    \"\"\"\n",
    "    return np.log(x[-1] / x[0]) \n",
    "\n",
    "\n",
    "amzn_data[\"Total Returns\"] = (amzn_data[\"Adj Close\"]\n",
    "                              .expanding()\n",
    "                              .apply(calc_total_return))\n",
    "\n",
    "fig3 = plt.figure()\n",
    "ax5 = fig3.add_subplot(111)\n",
    "ax5 = plt.plot(amzn_data[\"Total Returns\"])\n",
    "plt.title(\"Cumulative Log Returns for AMZN\")"
   ]
  },
  {
   "cell_type": "code",
   "execution_count": null,
   "id": "a8840386",
   "metadata": {
    "lines_to_next_cell": 2
   },
   "outputs": [],
   "source": []
  }
 ],
 "metadata": {
  "jupytext": {
   "cell_metadata_json": true,
   "notebook_metadata_filter": "markdown"
  },
  "kernelspec": {
   "display_name": "Python 3 (ipykernel)",
   "language": "python",
   "name": "python3"
  },
  "language_info": {
   "codemirror_mode": {
    "name": "ipython",
    "version": 3
   },
   "file_extension": ".py",
   "mimetype": "text/x-python",
   "name": "python",
   "nbconvert_exporter": "python",
   "pygments_lexer": "ipython3",
   "version": "3.9.7"
  }
 },
 "nbformat": 4,
 "nbformat_minor": 5
}
