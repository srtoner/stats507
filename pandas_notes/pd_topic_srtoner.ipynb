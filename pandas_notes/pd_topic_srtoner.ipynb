{
 "cells": [
  {
   "cell_type": "markdown",
   "id": "7c392777",
   "metadata": {},
   "source": [
    "*Work produced by Stephen Toner, Fall 2021* \\\n",
    "email: srtoner@umich.edu \\\n",
    "Import the following Modules:"
   ]
  },
  {
   "cell_type": "code",
   "execution_count": null,
   "id": "072ce003",
   "metadata": {},
   "outputs": [],
   "source": [
    "    "
   ]
  },
  {
   "cell_type": "code",
   "execution_count": null,
   "id": "66c1245b",
   "metadata": {},
   "outputs": [],
   "source": [
    "import os.path as os\n",
    "import pandas as pd\n",
    "import numpy as np\n",
    "import pickle\n",
    "import scipy.stats as stats\n",
    "from IPython.core.display import display, HTML\n",
    "import matplotlib.pyplot as plt\n",
    "import pandas_datareader as web\n",
    "import warnings"
   ]
  },
  {
   "cell_type": "markdown",
   "id": "d528e572",
   "metadata": {},
   "source": [
    "# Question 0: Pandas Topics: Window Functions\n",
    "\n",
    "Of the many funcitons in Pandas, one which is particularly useful for time\n",
    "series analysis is the window function. It lets us apply some aggregation \n",
    "function over a specified lookback period on a rolling basis throughout the\n",
    "time series. This is particularly useful for financial analsyis of equity\n",
    "returns, so we will compute some financial metrics for Amazon stock using\n",
    "this techinique."
   ]
  },
  {
   "cell_type": "markdown",
   "id": "2166e4a3",
   "metadata": {},
   "source": [
    "Our first step is to import our data for Amazon (\"AMZN\") \n",
    "over a healthy time horizon:"
   ]
  },
  {
   "cell_type": "code",
   "execution_count": null,
   "id": "fbfcadd2",
   "metadata": {
    "lines_to_next_cell": 2
   },
   "outputs": [],
   "source": [
    "amzn_data = web.DataReader(\"AMZN\", \n",
    "                           data_source = 'yahoo', \n",
    "                           start = \"2016-10-01\", \n",
    "                           end = \"2021-10-01\")\n",
    "\n",
    "amzn_data.head()"
   ]
  },
  {
   "cell_type": "markdown",
   "id": "ccf25fad",
   "metadata": {},
   "source": [
    "While the column labels are largely self-explanatory, two important notes\n",
    "should be made:\n",
    "* The adjusted close represents the closing price after all is said and done\n",
    "after the trading session ends; this may represent changes due to accounts \n",
    "being settled / netted against each other, or from adjustments to financial\n",
    "reporting statements.\n",
    "* One reason for our choice in AMZN stock rather than others is that AMZN\n",
    "has not had a stock split in the last 20 years; for this reason we do not\n",
    "need to concern ourselves with adjusting for the issuance of new shares like\n",
    "we would for TSLA, AAPL, or other companies with large\n",
    "market capitalization."
   ]
  },
  {
   "cell_type": "markdown",
   "id": "3605eb0c",
   "metadata": {},
   "source": [
    "Getting back to Pandas, we have three main functions that allow us to\n",
    "perform Window operations:\n",
    "* `df.shift()`: Not technically a window operation, but helpful for\n",
    "computing calculations with offsets in time series\n",
    "* `rolling`: For a given fixed lookback period, tells us the \n",
    "aggregation metric (mean, avg, std dev)\n",
    "* `expanding`: Similar to `rolling`, but the lookback period is not fixed. \n",
    "Helpful when we want to have a variable lookback period such as \"month to \n",
    "date\" returns"
   ]
  },
  {
   "cell_type": "markdown",
   "id": "12ecbf57",
   "metadata": {},
   "source": [
    "Two metrics that are often of interest to investors are the returns of an\n",
    "asset and the volume of shares traded. Returns are either calculated on\n",
    "a simple basis:\n",
    "$$ R_s = P_1/P_0 -1$$\n",
    "or a log basis:\n",
    "$$ R_l = \\log (P_1 / P_2) $$\n",
    "Simple returns are more useful when aggregating returns across multiple \n",
    "assets, while Log returns are more flexible when looking at returns across \n",
    "time. As we are just looking at AMZN, we will calculate the log returns\n",
    "using the `shift` function:"
   ]
  },
  {
   "cell_type": "code",
   "execution_count": null,
   "id": "cf81e3df",
   "metadata": {},
   "outputs": [],
   "source": [
    "amzn_data[\"l_returns\"] = np.log(amzn_data[\"Adj Close\"]/\n",
    "                                amzn_data[\"Adj Close\"].shift(1))\n",
    "\n",
    "\n",
    "plt.title(\"Log Returns of AMZN\")\n",
    "plt.plot(amzn_data['l_returns'])\n"
   ]
  },
  {
   "cell_type": "markdown",
   "id": "ee298716",
   "metadata": {},
   "source": [
    "For the latter, we see that the\n",
    "volume of AMZN stock traded is quite noisy:"
   ]
  },
  {
   "cell_type": "code",
   "execution_count": null,
   "id": "6f1ef50b",
   "metadata": {},
   "outputs": [],
   "source": [
    "plt.title(\"Daily Trading Volume of AMZN\")   \n",
    "plt.plot(amzn_data['Volume'])"
   ]
  },
  {
   "cell_type": "markdown",
   "id": "e3259af4",
   "metadata": {},
   "source": [
    "If we want to get a better picture of the trends, we can always take a\n",
    "moving average of the last 5 days (last full set of trading days):"
   ]
  },
  {
   "cell_type": "code",
   "execution_count": null,
   "id": "13d3a506",
   "metadata": {},
   "outputs": [],
   "source": [
    "amzn_data[\"vol_5dma\"] = amzn_data[\"Volume\"].rolling(window = 5).mean()\n",
    "plt.title(\"Daily Trading Volume of AMZN\")   \n",
    "plt.plot(amzn_data['vol_5dma'])"
   ]
  },
  {
   "cell_type": "markdown",
   "id": "81269a6e",
   "metadata": {},
   "source": [
    "When we apply this to a price metric, we can identify some technical patterns\n",
    "such as when the 15 or 50 day moving average crosses the 100 or 200 day\n",
    "moving average (known as the golden cross, by those who believe in it)."
   ]
  },
  {
   "cell_type": "code",
   "execution_count": null,
   "id": "cf67e406",
   "metadata": {
    "lines_to_end_of_cell_marker": 0,
    "lines_to_next_cell": 1
   },
   "outputs": [],
   "source": [
    "amzn_data[\"ma_15\"] = amzn_data[\"Adj Close\"].rolling(window = 15).mean()\n",
    "amzn_data[\"ma_100\"] = amzn_data[\"Adj Close\"].rolling(window = 100).mean()\n",
    "\n",
    "fig1 = plt.figure()\n",
    "plt.plot(amzn_data[\"ma_15\"])\n",
    "plt.plot(amzn_data[\"ma_100\"])\n",
    "plt.title(\"15 Day MA vs. 100 Day MA\")\n",
    "\n",
    "# We can then use the `shift()` method to identify which dates have \n",
    "# golden crosses\n",
    "\n",
    "gc_days = (amzn_data.eval(\"ma_15 > ma_100\") & \n",
    "               amzn_data.shift(1).eval(\"ma_15 <= ma_100\"))\n",
    "\n",
    "gc_prices = amzn_data[\"ma_15\"][gc_days]\n",
    "\n",
    "\n",
    "fig2 = plt.figure()\n",
    "plt.plot(amzn_data[\"Adj Close\"], color = \"black\")\n",
    "plt.scatter( x= gc_prices.index, \n",
    "                y = gc_prices[:],\n",
    "                marker = \"+\", \n",
    "                color = \"gold\" \n",
    "                )\n",
    "\n",
    "plt.title(\"Golden Crosses & Adj Close\")"
   ]
  },
  {
   "cell_type": "markdown",
   "id": "8997f11f",
   "metadata": {},
   "source": [
    "The last feature that Pandas offers is a the `expanding` window function, \n",
    "which calculates a metric over a time frame that grows with each additional \n",
    "period. This is particularly useful for backtesting financial metrics\n",
    "as indicators of changes in equity prices: because one must be careful not\n",
    "to apply information from the future when performing backtesting, the \n",
    "`expanding` functionality helps ensure we only use information up until the \n",
    "given point in time. Below, we use the expanding function to plot cumulative\n",
    "return of AMZN over the time horizon."
   ]
  },
  {
   "cell_type": "code",
   "execution_count": null,
   "id": "fad2af4f",
   "metadata": {
    "lines_to_next_cell": 0
   },
   "outputs": [],
   "source": [
    "def calc_total_return(x):\n",
    "    \"\"\"    \n",
    "    Parameters\n",
    "    ----------\n",
    "    x : TYPE\n",
    "        DESCRIPTION.\n",
    "\n",
    "    Returns\n",
    "    -------\n",
    "    TYPE\n",
    "        DESCRIPTION.\n",
    "\n",
    "    \"\"\"\n",
    "    return np.log(x[-1] / x[0]) \n",
    "\n",
    "\n",
    "amzn_data[\"Total Returns\"] = (amzn_data[\"Adj Close\"]\n",
    "                              .expanding()\n",
    "                              .apply(calc_total_return))\n",
    "\n",
    "fig3 = plt.figure()\n",
    "ax5 = fig3.add_subplot(111)\n",
    "ax5 = plt.plot(amzn_data[\"Total Returns\"])\n",
    "plt.title(\"Cumulative Log Returns for AMZN\")"
   ]
  },
  {
   "cell_type": "code",
   "execution_count": null,
   "id": "efc7bc4e",
   "metadata": {},
   "outputs": [],
   "source": []
  }
 ],
 "metadata": {
  "jupytext": {
   "cell_metadata_filter": "-all",
   "main_language": "python",
   "notebook_metadata_filter": "-all"
  },
  "kernelspec": {
   "display_name": "Python 3",
   "language": "python",
   "name": "python3"
  },
  "language_info": {
   "codemirror_mode": {
    "name": "ipython",
    "version": 3
   },
   "file_extension": ".py",
   "mimetype": "text/x-python",
   "name": "python",
   "nbconvert_exporter": "python",
   "pygments_lexer": "ipython3",
   "version": "3.8.8"
  }
 },
 "nbformat": 4,
 "nbformat_minor": 5
}
